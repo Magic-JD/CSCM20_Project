{
 "cells": [
  {
   "cell_type": "markdown",
   "metadata": {},
   "source": [
    "In this notebook I will write the code to collect tweets between January 2019 and June 2022. I will save the tweets to csv."
   ]
  },
  {
   "cell_type": "code",
   "execution_count": 89,
   "metadata": {},
   "outputs": [],
   "source": [
    "from pandas import json_normalize\n",
    "import pip._vendor.requests \n",
    "import os\n",
    "import json\n",
    "from dotenv import load_dotenv\n",
    "import csv\n",
    "import pandas as pd\n",
    "from datetime import datetime\n",
    "from operator import itemgetter\n",
    "import numpy as np\n",
    "from time import sleep"
   ]
  },
  {
   "cell_type": "code",
   "execution_count": 90,
   "metadata": {},
   "outputs": [],
   "source": [
    "load_dotenv()\n",
    "\n",
    "# To get bearer token environment variable\n",
    "bearer_token = os.environ.get(\"BEARER-TOKEN\")\n",
    "\n",
    "search_url = \"https://api.twitter.com/2/tweets/search/all\" \n",
    "\n",
    "def bearer_oauth(r):\n",
    "    \"\"\"\n",
    "    Method required by bearer token authentication.\n",
    "    \"\"\"\n",
    "\n",
    "    r.headers[\"Authorization\"] = f\"Bearer {bearer_token}\"\n",
    "    return r\n",
    "\n",
    "\n",
    "def connect_to_endpoint(url, params):\n",
    "    response = pip._vendor.requests.request(\"GET\", search_url, auth=bearer_oauth, params=params)\n",
    "    # print(response.status_code)\n",
    "    if response.status_code != 200:\n",
    "        raise Exception(response.status_code, response.text)\n",
    "    return response.json()"
   ]
  },
  {
   "cell_type": "code",
   "execution_count": 91,
   "metadata": {},
   "outputs": [],
   "source": [
    "def getKeywordQueryString():\n",
    "    keyWordData = pd.read_csv('finalAsianKeywords.csv')\n",
    "    words = keyWordData['keyword'].tolist()\n",
    "    keywordQueryString = \"\"\n",
    "\n",
    "    for word in words:\n",
    "        if word != words[-1]:\n",
    "            keywordQueryString = keywordQueryString + word + \" OR \"\n",
    "        else:\n",
    "            keywordQueryString = keywordQueryString + word\n",
    "    return keywordQueryString\n",
    "\n",
    "\n"
   ]
  },
  {
   "cell_type": "code",
   "execution_count": 92,
   "metadata": {},
   "outputs": [],
   "source": [
    "\n",
    "\n",
    "\n",
    "def query_params(keywordQueryString, startTime, endTime, maxResults, nextToken):\n",
    "\n",
    "    queryString = f'({keywordQueryString}) lang:en -is:retweet place_country:gb'\n",
    "\n",
    "\n",
    "    return      {'query': queryString, \n",
    "                'start_time': startTime, \n",
    "                'end_time': endTime, \n",
    "                'max_results': maxResults,\n",
    "                'tweet.fields': 'text,created_at,id',                \n",
    "                'next_token': nextToken}\n",
    "   "
   ]
  },
  {
   "cell_type": "code",
   "execution_count": null,
   "metadata": {},
   "outputs": [],
   "source": []
  },
  {
   "cell_type": "code",
   "execution_count": 93,
   "metadata": {},
   "outputs": [],
   "source": [
    "def getTweetsToCsv(keywordQueryString, startTime, endTime, maxResults, csvString):\n",
    "    next_token = {}\n",
    "    finished = False\n",
    "    data = []\n",
    "    mostRecentDate = \"\"\n",
    "    count = 0\n",
    "    while finished == False:\n",
    "        json_response = connect_to_endpoint(search_url, query_params(keywordQueryString, startTime, endTime, maxResults, next_token))\n",
    "        for r in json_response['data']:\n",
    "            date = r['created_at']\n",
    "            tweetId = r['id']\n",
    "            tweetText = r['text']\n",
    "            print(type(tweetText))\n",
    "            if (\"\\n\" in tweetText):\n",
    "                tweetText = ''.join(tweetText.splitlines())\n",
    "            result = [date, tweetId, tweetText]\n",
    "            data.append(r)\n",
    "            count +=1\n",
    "            print(count)\n",
    "            mostRecentDate = date\n",
    "        if count > maxResults:\n",
    "            finished = True\n",
    "        if 'next_token' in json_response['meta']:\n",
    "            # Save the token to use for next call\n",
    "            next_token = json_response['meta']['next_token']\n",
    "        else:\n",
    "            finished = True\n",
    "    \n",
    "    df = pd.DataFrame(data)\n",
    "    df.to_csv(csvString, index=False, header=False, mode='a')\n",
    "    print(\"most recent date: \" + mostRecentDate)\n",
    "    return mostRecentDate\n",
    "\n",
    "\n"
   ]
  },
  {
   "cell_type": "code",
   "execution_count": 94,
   "metadata": {},
   "outputs": [],
   "source": [
    "\n",
    "\n",
    "\n",
    "def twitterScraperLoopUntilComplete(keywordQueryString, startTime, endTime, maxResults, csvString):\n",
    "    csvFile = open(csvString, \"a\", newline=\"\", encoding='utf-8')\n",
    "    csvWriter = csv.writer(csvFile)\n",
    "\n",
    "    #Create headers for the data you want to save, in this example, we only want save these columns in our dataset\n",
    "    csvWriter.writerow(['date', 'id', 'tweet'])\n",
    "    csvFile.close()\n",
    "    end = endTime\n",
    "    shortFormatStartString = startTime[0:10]\n",
    "    finished = False\n",
    "    while finished == False:\n",
    "        end = getTweetsToCsv(keywordQueryString, startTime, end, maxResults, csvString)\n",
    "        if (shortFormatStartString == end[0:10]):\n",
    "            print(\"YAY IT'S TRUE\")\n",
    "            finished = True\n",
    "        sleep(4)\n",
    "    \n"
   ]
  },
  {
   "cell_type": "code",
   "execution_count": 95,
   "metadata": {},
   "outputs": [
    {
     "name": "stdout",
     "output_type": "stream",
     "text": [
      "<class 'str'>\n",
      "1\n",
      "<class 'str'>\n",
      "2\n",
      "<class 'str'>\n",
      "3\n",
      "<class 'str'>\n",
      "4\n",
      "<class 'str'>\n",
      "5\n",
      "<class 'str'>\n",
      "6\n",
      "<class 'str'>\n",
      "7\n",
      "<class 'str'>\n",
      "8\n",
      "<class 'str'>\n",
      "9\n"
     ]
    },
    {
     "ename": "Exception",
     "evalue": "(429, '{\"title\":\"Too Many Requests\",\"detail\":\"Too Many Requests\",\"type\":\"about:blank\",\"status\":429}')",
     "output_type": "error",
     "traceback": [
      "\u001b[1;31m---------------------------------------------------------------------------\u001b[0m",
      "\u001b[1;31mException\u001b[0m                                 Traceback (most recent call last)",
      "\u001b[1;32mc:\\Users\\olija\\Documents\\GitHub\\CSCM20_Project\\tweetScrape.ipynb Cell 9\u001b[0m in \u001b[0;36m<cell line: 8>\u001b[1;34m()\u001b[0m\n\u001b[0;32m      <a href='vscode-notebook-cell:/c%3A/Users/olija/Documents/GitHub/CSCM20_Project/tweetScrape.ipynb#X11sZmlsZQ%3D%3D?line=3'>4</a>\u001b[0m \u001b[39m# endTime = '2022-06-01T00:00:00Z'\u001b[39;00m\n\u001b[0;32m      <a href='vscode-notebook-cell:/c%3A/Users/olija/Documents/GitHub/CSCM20_Project/tweetScrape.ipynb#X11sZmlsZQ%3D%3D?line=4'>5</a>\u001b[0m maxResults \u001b[39m=\u001b[39m \u001b[39m10\u001b[39m\n\u001b[1;32m----> <a href='vscode-notebook-cell:/c%3A/Users/olija/Documents/GitHub/CSCM20_Project/tweetScrape.ipynb#X11sZmlsZQ%3D%3D?line=7'>8</a>\u001b[0m twitterScraperLoopUntilComplete(queryStringOfKeywords, startTime, endTime, maxResults, \u001b[39m\"\u001b[39;49m\u001b[39mhelloKitty3.csv\u001b[39;49m\u001b[39m\"\u001b[39;49m)\n",
      "\u001b[1;32mc:\\Users\\olija\\Documents\\GitHub\\CSCM20_Project\\tweetScrape.ipynb Cell 9\u001b[0m in \u001b[0;36mtwitterScraperLoopUntilComplete\u001b[1;34m(keywordQueryString, startTime, endTime, maxResults, csvString)\u001b[0m\n\u001b[0;32m     <a href='vscode-notebook-cell:/c%3A/Users/olija/Documents/GitHub/CSCM20_Project/tweetScrape.ipynb#X11sZmlsZQ%3D%3D?line=9'>10</a>\u001b[0m finished \u001b[39m=\u001b[39m \u001b[39mFalse\u001b[39;00m\n\u001b[0;32m     <a href='vscode-notebook-cell:/c%3A/Users/olija/Documents/GitHub/CSCM20_Project/tweetScrape.ipynb#X11sZmlsZQ%3D%3D?line=10'>11</a>\u001b[0m \u001b[39mwhile\u001b[39;00m finished \u001b[39m==\u001b[39m \u001b[39mFalse\u001b[39;00m:\n\u001b[1;32m---> <a href='vscode-notebook-cell:/c%3A/Users/olija/Documents/GitHub/CSCM20_Project/tweetScrape.ipynb#X11sZmlsZQ%3D%3D?line=11'>12</a>\u001b[0m     end \u001b[39m=\u001b[39m getTweetsToCsv(keywordQueryString, startTime, end, maxResults, csvString)\n\u001b[0;32m     <a href='vscode-notebook-cell:/c%3A/Users/olija/Documents/GitHub/CSCM20_Project/tweetScrape.ipynb#X11sZmlsZQ%3D%3D?line=12'>13</a>\u001b[0m     \u001b[39mif\u001b[39;00m (shortFormatStartString \u001b[39m==\u001b[39m end[\u001b[39m0\u001b[39m:\u001b[39m10\u001b[39m]):\n\u001b[0;32m     <a href='vscode-notebook-cell:/c%3A/Users/olija/Documents/GitHub/CSCM20_Project/tweetScrape.ipynb#X11sZmlsZQ%3D%3D?line=13'>14</a>\u001b[0m         \u001b[39mprint\u001b[39m(\u001b[39m\"\u001b[39m\u001b[39mYAY IT\u001b[39m\u001b[39m'\u001b[39m\u001b[39mS TRUE\u001b[39m\u001b[39m\"\u001b[39m)\n",
      "\u001b[1;32mc:\\Users\\olija\\Documents\\GitHub\\CSCM20_Project\\tweetScrape.ipynb Cell 9\u001b[0m in \u001b[0;36mgetTweetsToCsv\u001b[1;34m(keywordQueryString, startTime, endTime, maxResults, csvString)\u001b[0m\n\u001b[0;32m      <a href='vscode-notebook-cell:/c%3A/Users/olija/Documents/GitHub/CSCM20_Project/tweetScrape.ipynb#X11sZmlsZQ%3D%3D?line=5'>6</a>\u001b[0m count \u001b[39m=\u001b[39m \u001b[39m0\u001b[39m\n\u001b[0;32m      <a href='vscode-notebook-cell:/c%3A/Users/olija/Documents/GitHub/CSCM20_Project/tweetScrape.ipynb#X11sZmlsZQ%3D%3D?line=6'>7</a>\u001b[0m \u001b[39mwhile\u001b[39;00m finished \u001b[39m==\u001b[39m \u001b[39mFalse\u001b[39;00m:\n\u001b[1;32m----> <a href='vscode-notebook-cell:/c%3A/Users/olija/Documents/GitHub/CSCM20_Project/tweetScrape.ipynb#X11sZmlsZQ%3D%3D?line=7'>8</a>\u001b[0m     json_response \u001b[39m=\u001b[39m connect_to_endpoint(search_url, query_params(keywordQueryString, startTime, endTime, maxResults, next_token))\n\u001b[0;32m      <a href='vscode-notebook-cell:/c%3A/Users/olija/Documents/GitHub/CSCM20_Project/tweetScrape.ipynb#X11sZmlsZQ%3D%3D?line=8'>9</a>\u001b[0m     \u001b[39mfor\u001b[39;00m r \u001b[39min\u001b[39;00m json_response[\u001b[39m'\u001b[39m\u001b[39mdata\u001b[39m\u001b[39m'\u001b[39m]:\n\u001b[0;32m     <a href='vscode-notebook-cell:/c%3A/Users/olija/Documents/GitHub/CSCM20_Project/tweetScrape.ipynb#X11sZmlsZQ%3D%3D?line=9'>10</a>\u001b[0m         date \u001b[39m=\u001b[39m r[\u001b[39m'\u001b[39m\u001b[39mcreated_at\u001b[39m\u001b[39m'\u001b[39m]\n",
      "\u001b[1;32mc:\\Users\\olija\\Documents\\GitHub\\CSCM20_Project\\tweetScrape.ipynb Cell 9\u001b[0m in \u001b[0;36mconnect_to_endpoint\u001b[1;34m(url, params)\u001b[0m\n\u001b[0;32m     <a href='vscode-notebook-cell:/c%3A/Users/olija/Documents/GitHub/CSCM20_Project/tweetScrape.ipynb#X11sZmlsZQ%3D%3D?line=18'>19</a>\u001b[0m \u001b[39m# print(response.status_code)\u001b[39;00m\n\u001b[0;32m     <a href='vscode-notebook-cell:/c%3A/Users/olija/Documents/GitHub/CSCM20_Project/tweetScrape.ipynb#X11sZmlsZQ%3D%3D?line=19'>20</a>\u001b[0m \u001b[39mif\u001b[39;00m response\u001b[39m.\u001b[39mstatus_code \u001b[39m!=\u001b[39m \u001b[39m200\u001b[39m:\n\u001b[1;32m---> <a href='vscode-notebook-cell:/c%3A/Users/olija/Documents/GitHub/CSCM20_Project/tweetScrape.ipynb#X11sZmlsZQ%3D%3D?line=20'>21</a>\u001b[0m     \u001b[39mraise\u001b[39;00m \u001b[39mException\u001b[39;00m(response\u001b[39m.\u001b[39mstatus_code, response\u001b[39m.\u001b[39mtext)\n\u001b[0;32m     <a href='vscode-notebook-cell:/c%3A/Users/olija/Documents/GitHub/CSCM20_Project/tweetScrape.ipynb#X11sZmlsZQ%3D%3D?line=21'>22</a>\u001b[0m \u001b[39mreturn\u001b[39;00m response\u001b[39m.\u001b[39mjson()\n",
      "\u001b[1;31mException\u001b[0m: (429, '{\"title\":\"Too Many Requests\",\"detail\":\"Too Many Requests\",\"type\":\"about:blank\",\"status\":429}')"
     ]
    }
   ],
   "source": [
    "queryStringOfKeywords = getKeywordQueryString()\n",
    "startTime = '2020-02-01T00:00:00Z'\n",
    "endTime = '2020-02-05T00:00:00Z'\n",
    "# endTime = '2022-06-01T00:00:00Z'\n",
    "maxResults = 10\n",
    "\n",
    "\n",
    "twitterScraperLoopUntilComplete(queryStringOfKeywords, startTime, endTime, maxResults, \"helloKitty3.csv\")"
   ]
  }
 ],
 "metadata": {
  "kernelspec": {
   "display_name": "Python 3.10.6 64-bit (windows store)",
   "language": "python",
   "name": "python3"
  },
  "language_info": {
   "codemirror_mode": {
    "name": "ipython",
    "version": 3
   },
   "file_extension": ".py",
   "mimetype": "text/x-python",
   "name": "python",
   "nbconvert_exporter": "python",
   "pygments_lexer": "ipython3",
   "version": "3.10.6"
  },
  "orig_nbformat": 4,
  "vscode": {
   "interpreter": {
    "hash": "b04001ca54e5ffc9c42d9fa47127f5c745705fc157c2151e145f1f4ee061d594"
   }
  }
 },
 "nbformat": 4,
 "nbformat_minor": 2
}
