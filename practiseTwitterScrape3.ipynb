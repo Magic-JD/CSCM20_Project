{
 "cells": [
  {
   "cell_type": "code",
   "execution_count": 1,
   "metadata": {},
   "outputs": [
    {
     "name": "stdout",
     "output_type": "stream",
     "text": [
      "401\n"
     ]
    },
    {
     "ename": "Exception",
     "evalue": "Request returned an error: 401 {\n  \"title\": \"Unauthorized\",\n  \"type\": \"about:blank\",\n  \"status\": 401,\n  \"detail\": \"Unauthorized\"\n}",
     "output_type": "error",
     "traceback": [
      "\u001b[1;31m---------------------------------------------------------------------------\u001b[0m",
      "\u001b[1;31mException\u001b[0m                                 Traceback (most recent call last)",
      "\u001b[1;32mc:\\Users\\olija\\Documents\\GitHub\\CSCM20_Project\\practiseTwitterScrape3.ipynb Cell 1\u001b[0m in \u001b[0;36m<cell line: 71>\u001b[1;34m()\u001b[0m\n\u001b[0;32m     <a href='vscode-notebook-cell:/c%3A/Users/olija/Documents/GitHub/CSCM20_Project/practiseTwitterScrape3.ipynb#ch0000000?line=67'>68</a>\u001b[0m     \u001b[39mprint\u001b[39m(json\u001b[39m.\u001b[39mdumps(json_response, indent\u001b[39m=\u001b[39m\u001b[39m4\u001b[39m, sort_keys\u001b[39m=\u001b[39m\u001b[39mTrue\u001b[39;00m))\n\u001b[0;32m     <a href='vscode-notebook-cell:/c%3A/Users/olija/Documents/GitHub/CSCM20_Project/practiseTwitterScrape3.ipynb#ch0000000?line=70'>71</a>\u001b[0m \u001b[39mif\u001b[39;00m \u001b[39m__name__\u001b[39m \u001b[39m==\u001b[39m \u001b[39m\"\u001b[39m\u001b[39m__main__\u001b[39m\u001b[39m\"\u001b[39m:\n\u001b[1;32m---> <a href='vscode-notebook-cell:/c%3A/Users/olija/Documents/GitHub/CSCM20_Project/practiseTwitterScrape3.ipynb#ch0000000?line=71'>72</a>\u001b[0m     main()\n",
      "\u001b[1;32mc:\\Users\\olija\\Documents\\GitHub\\CSCM20_Project\\practiseTwitterScrape3.ipynb Cell 1\u001b[0m in \u001b[0;36mmain\u001b[1;34m()\u001b[0m\n\u001b[0;32m     <a href='vscode-notebook-cell:/c%3A/Users/olija/Documents/GitHub/CSCM20_Project/practiseTwitterScrape3.ipynb#ch0000000?line=64'>65</a>\u001b[0m url \u001b[39m=\u001b[39m create_url()\n\u001b[0;32m     <a href='vscode-notebook-cell:/c%3A/Users/olija/Documents/GitHub/CSCM20_Project/practiseTwitterScrape3.ipynb#ch0000000?line=65'>66</a>\u001b[0m params \u001b[39m=\u001b[39m get_params()\n\u001b[1;32m---> <a href='vscode-notebook-cell:/c%3A/Users/olija/Documents/GitHub/CSCM20_Project/practiseTwitterScrape3.ipynb#ch0000000?line=66'>67</a>\u001b[0m json_response \u001b[39m=\u001b[39m connect_to_endpoint(url, params)\n\u001b[0;32m     <a href='vscode-notebook-cell:/c%3A/Users/olija/Documents/GitHub/CSCM20_Project/practiseTwitterScrape3.ipynb#ch0000000?line=67'>68</a>\u001b[0m \u001b[39mprint\u001b[39m(json\u001b[39m.\u001b[39mdumps(json_response, indent\u001b[39m=\u001b[39m\u001b[39m4\u001b[39m, sort_keys\u001b[39m=\u001b[39m\u001b[39mTrue\u001b[39;00m))\n",
      "\u001b[1;32mc:\\Users\\olija\\Documents\\GitHub\\CSCM20_Project\\practiseTwitterScrape3.ipynb Cell 1\u001b[0m in \u001b[0;36mconnect_to_endpoint\u001b[1;34m(url, params)\u001b[0m\n\u001b[0;32m     <a href='vscode-notebook-cell:/c%3A/Users/olija/Documents/GitHub/CSCM20_Project/practiseTwitterScrape3.ipynb#ch0000000?line=53'>54</a>\u001b[0m \u001b[39mprint\u001b[39m(response\u001b[39m.\u001b[39mstatus_code)\n\u001b[0;32m     <a href='vscode-notebook-cell:/c%3A/Users/olija/Documents/GitHub/CSCM20_Project/practiseTwitterScrape3.ipynb#ch0000000?line=54'>55</a>\u001b[0m \u001b[39mif\u001b[39;00m response\u001b[39m.\u001b[39mstatus_code \u001b[39m!=\u001b[39m \u001b[39m200\u001b[39m:\n\u001b[1;32m---> <a href='vscode-notebook-cell:/c%3A/Users/olija/Documents/GitHub/CSCM20_Project/practiseTwitterScrape3.ipynb#ch0000000?line=55'>56</a>\u001b[0m     \u001b[39mraise\u001b[39;00m \u001b[39mException\u001b[39;00m(\n\u001b[0;32m     <a href='vscode-notebook-cell:/c%3A/Users/olija/Documents/GitHub/CSCM20_Project/practiseTwitterScrape3.ipynb#ch0000000?line=56'>57</a>\u001b[0m         \u001b[39m\"\u001b[39m\u001b[39mRequest returned an error: \u001b[39m\u001b[39m{}\u001b[39;00m\u001b[39m \u001b[39m\u001b[39m{}\u001b[39;00m\u001b[39m\"\u001b[39m\u001b[39m.\u001b[39mformat(\n\u001b[0;32m     <a href='vscode-notebook-cell:/c%3A/Users/olija/Documents/GitHub/CSCM20_Project/practiseTwitterScrape3.ipynb#ch0000000?line=57'>58</a>\u001b[0m             response\u001b[39m.\u001b[39mstatus_code, response\u001b[39m.\u001b[39mtext\n\u001b[0;32m     <a href='vscode-notebook-cell:/c%3A/Users/olija/Documents/GitHub/CSCM20_Project/practiseTwitterScrape3.ipynb#ch0000000?line=58'>59</a>\u001b[0m         )\n\u001b[0;32m     <a href='vscode-notebook-cell:/c%3A/Users/olija/Documents/GitHub/CSCM20_Project/practiseTwitterScrape3.ipynb#ch0000000?line=59'>60</a>\u001b[0m     )\n\u001b[0;32m     <a href='vscode-notebook-cell:/c%3A/Users/olija/Documents/GitHub/CSCM20_Project/practiseTwitterScrape3.ipynb#ch0000000?line=60'>61</a>\u001b[0m \u001b[39mreturn\u001b[39;00m response\u001b[39m.\u001b[39mjson()\n",
      "\u001b[1;31mException\u001b[0m: Request returned an error: 401 {\n  \"title\": \"Unauthorized\",\n  \"type\": \"about:blank\",\n  \"status\": 401,\n  \"detail\": \"Unauthorized\"\n}"
     ]
    }
   ],
   "source": [
    "\n",
    "# For sending GET requests from the API\n",
    "#import requests\n",
    "import pip._vendor.requests \n",
    "# For saving access tokens and for file management when creating and adding to the dataset\n",
    "import os\n",
    "# For dealing with json responses we receive from the API\n",
    "import json\n",
    "# For displaying the data after\n",
    "import pandas as pd\n",
    "# For saving the response data in CSV format\n",
    "import csv\n",
    "# For parsing the dates received from twitter in readable formats\n",
    "import datetime\n",
    "import dateutil.parser\n",
    "import unicodedata\n",
    "#To add wait time between requests\n",
    "import time\n",
    "from dotenv import load_dotenv\n",
    "\n",
    "# To set your environment variables in your terminal run the following line:\n",
    "# export 'BEARER_TOKEN'='<your_bearer_token>'\n",
    "bearer_token = os.environ.get(\"bearer_token\")\n",
    "\n",
    "\n",
    "def create_url():\n",
    "    # Replace with user ID below\n",
    "    user_id = 1113874649824354304\n",
    "    return \"https://api.twitter.com/2/users/{}/tweets\".format(user_id)\n",
    "\n",
    "\n",
    "def get_params():\n",
    "    # Tweet fields are adjustable.\n",
    "    # Options include:\n",
    "    # attachments, author_id, context_annotations,\n",
    "    # conversation_id, created_at, entities, geo, id,\n",
    "    # in_reply_to_user_id, lang, non_public_metrics, organic_metrics,\n",
    "    # possibly_sensitive, promoted_metrics, public_metrics, referenced_tweets,\n",
    "    # source, text, and withheld\n",
    "    return {\"tweet.fields\": \"created_at,text\"}\n",
    "\n",
    "\n",
    "def bearer_oauth(r):\n",
    "    \"\"\"\n",
    "    Method required by bearer token authentication.\n",
    "    \"\"\"\n",
    "\n",
    "    r.headers[\"Authorization\"] = f\"Bearer {bearer_token}\"\n",
    "    r.headers[\"User-Agent\"] = \"v2UserTweetsPython\"\n",
    "    return r\n",
    "\n",
    "\n",
    "def connect_to_endpoint(url, params):\n",
    "    response = pip._vendor.requests.request(\"GET\", url, auth=bearer_oauth, params=params)\n",
    "    print(response.status_code)\n",
    "    if response.status_code != 200:\n",
    "        raise Exception(\n",
    "            \"Request returned an error: {} {}\".format(\n",
    "                response.status_code, response.text\n",
    "            )\n",
    "        )\n",
    "    return response.json()\n",
    "\n",
    "\n",
    "def main():\n",
    "    url = create_url()\n",
    "    params = get_params()\n",
    "    json_response = connect_to_endpoint(url, params)\n",
    "    print(json.dumps(json_response, indent=4, sort_keys=True))\n",
    "\n",
    "\n",
    "if __name__ == \"__main__\":\n",
    "    main()"
   ]
  }
 ],
 "metadata": {
  "kernelspec": {
   "display_name": "Python 3.10.5 64-bit (windows store)",
   "language": "python",
   "name": "python3"
  },
  "language_info": {
   "codemirror_mode": {
    "name": "ipython",
    "version": 3
   },
   "file_extension": ".py",
   "mimetype": "text/x-python",
   "name": "python",
   "nbconvert_exporter": "python",
   "pygments_lexer": "ipython3",
   "version": "3.10.5"
  },
  "orig_nbformat": 4,
  "vscode": {
   "interpreter": {
    "hash": "b04001ca54e5ffc9c42d9fa47127f5c745705fc157c2151e145f1f4ee061d594"
   }
  }
 },
 "nbformat": 4,
 "nbformat_minor": 2
}
