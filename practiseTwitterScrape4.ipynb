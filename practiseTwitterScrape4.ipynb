{
 "cells": [
  {
   "cell_type": "code",
   "execution_count": 134,
   "metadata": {},
   "outputs": [],
   "source": [
    "\n",
    "\n",
    "\n",
    "# For sending GET requests from the API\n",
    "#import requests\n",
    "import pip._vendor.requests \n",
    "# For saving access tokens and for file management when creating and adding to the dataset\n",
    "import os\n",
    "# For dealing with json responses we receive from the API\n",
    "import json\n",
    "# For displaying the data after\n",
    "import pandas as pd\n",
    "# For saving the response data in CSV format\n",
    "import csv\n",
    "# For parsing the dates received from twitter in readable formats\n",
    "import datetime\n",
    "import dateutil.parser\n",
    "import unicodedata\n",
    "#To add wait time between requests\n",
    "import time\n",
    "from dotenv import load_dotenv"
   ]
  },
  {
   "cell_type": "markdown",
   "metadata": {},
   "source": [
    "https://www.nylas.com/blog/making-use-of-environment-variables-in-python/"
   ]
  },
  {
   "cell_type": "markdown",
   "metadata": {},
   "source": [
    "sources:\n",
    "https://towardsdatascience.com/an-extensive-guide-to-collecting-tweets-from-twitter-api-v2-for-academic-research-using-python-3-518fcb71df2a"
   ]
  },
  {
   "cell_type": "code",
   "execution_count": 135,
   "metadata": {},
   "outputs": [],
   "source": [
    "\n",
    "#load_dotenv()\n",
    "#import os\n",
    "#token = os.environ.get(\"bearer-token\")"
   ]
  },
  {
   "cell_type": "code",
   "execution_count": 136,
   "metadata": {},
   "outputs": [],
   "source": [
    "load_dotenv()\n",
    "\n",
    "def auth():\n",
    "    return os.environ.get(\"bearer-token\")\n"
   ]
  },
  {
   "cell_type": "code",
   "execution_count": 137,
   "metadata": {},
   "outputs": [],
   "source": [
    "\n",
    "def create_headers(bearer_token):\n",
    "    headers = {\"Authorization\": \"Bearer {}\".format(bearer_token)}\n",
    "    return headers"
   ]
  },
  {
   "cell_type": "code",
   "execution_count": 138,
   "metadata": {},
   "outputs": [],
   "source": [
    "\n",
    "def create_url(keyword, max_results):\n",
    "    \n",
    "    search_url = \"https://api.twitter.com/2/tweets/search/all\" #Change to the endpoint you want to collect data from\n",
    "\n",
    "    #change params based on the endpoint you are using\n",
    "    query_params = {'query': keyword,\n",
    "                    'max_results': max_results,\n",
    "                    'expansions': 'geo.place_id',\n",
    "                    'tweet.fields': 'text,author_id,created_at,id',\n",
    "                    'user.fields': 'name,username',\n",
    "                    'place.fields': 'country,country_code,geo',\n",
    "                    'next_token': {}}\n",
    "    return (search_url, query_params)"
   ]
  },
  {
   "cell_type": "code",
   "execution_count": 139,
   "metadata": {},
   "outputs": [],
   "source": [
    "\n",
    "def connect_to_endpoint(url, headers, params, next_token = None):\n",
    "    params['next_token'] = next_token   #params object received from create_url function\n",
    "    response = pip._vendor.requests.request(\"GET\", url, headers = headers, params = params)\n",
    "    print(\"Endpoint Response Code: \" + str(response.status_code))\n",
    "    if response.status_code != 200:\n",
    "        raise Exception(response.status_code, response.text)\n",
    "    return response.json()"
   ]
  },
  {
   "cell_type": "code",
   "execution_count": 140,
   "metadata": {},
   "outputs": [],
   "source": [
    "\n",
    "#Inputs for the request\n",
    "bearer_token = auth()\n",
    "headers = create_headers(bearer_token)\n",
    "keyword = \"(from:ojacksonio)\"\n",
    "max_results = 10"
   ]
  },
  {
   "cell_type": "code",
   "execution_count": 141,
   "metadata": {},
   "outputs": [
    {
     "name": "stdout",
     "output_type": "stream",
     "text": [
      "Endpoint Response Code: 200\n"
     ]
    }
   ],
   "source": [
    "url = create_url(keyword, max_results)\n",
    "json_response = connect_to_endpoint(url[0], headers, url[1])"
   ]
  },
  {
   "cell_type": "code",
   "execution_count": 142,
   "metadata": {},
   "outputs": [
    {
     "name": "stdout",
     "output_type": "stream",
     "text": [
      "{\n",
      "    \"data\": [\n",
      "        {\n",
      "            \"author_id\": \"44196397\",\n",
      "            \"created_at\": \"2022-07-26T16:11:20.000Z\",\n",
      "            \"id\": \"1551963390129709056\",\n",
      "            \"text\": \"@jeffskoll Thanks Jeff \\ud83d\\udc95\"\n",
      "        },\n",
      "        {\n",
      "            \"author_id\": \"44196397\",\n",
      "            \"created_at\": \"2022-07-26T15:53:34.000Z\",\n",
      "            \"id\": \"1551958919140048898\",\n",
      "            \"text\": \"@SPACEdotcom Bon voyage\"\n",
      "        },\n",
      "        {\n",
      "            \"author_id\": \"44196397\",\n",
      "            \"created_at\": \"2022-07-26T15:39:30.000Z\",\n",
      "            \"id\": \"1551955376295256064\",\n",
      "            \"text\": \"@michaelsiconolf @KirstenGrind @EmilyGlazer Sickonolfi\\u2019s pack of attack chihuahuas are burning up phone lines today for revenge after his bogus article \\ud83e\\udd23\\ud83e\\udd23\"\n",
      "        },\n",
      "        {\n",
      "            \"author_id\": \"44196397\",\n",
      "            \"created_at\": \"2022-07-26T10:46:30.000Z\",\n",
      "            \"id\": \"1551881641659883520\",\n",
      "            \"text\": \"@dogeofficialceo @MarceloPLima \\ud83e\\udd23\"\n",
      "        },\n",
      "        {\n",
      "            \"author_id\": \"44196397\",\n",
      "            \"created_at\": \"2022-07-26T10:34:44.000Z\",\n",
      "            \"id\": \"1551878680191897605\",\n",
      "            \"text\": \"@MarceloPLima Exactly\"\n",
      "        },\n",
      "        {\n",
      "            \"author_id\": \"44196397\",\n",
      "            \"created_at\": \"2022-07-26T04:41:41.000Z\",\n",
      "            \"id\": \"1551789833340817408\",\n",
      "            \"text\": \"@SawyerMerritt @heydave7 @WholeMarsBlog @WSJ Good point, will do\"\n",
      "        },\n",
      "        {\n",
      "            \"author_id\": \"44196397\",\n",
      "            \"created_at\": \"2022-07-25T22:37:15.000Z\",\n",
      "            \"id\": \"1551698120328749056\",\n",
      "            \"text\": \"The amount of attention on me has gone supernova, which super sucks. Unfortunately, even trivial articles about me generate a lot of clicks :(\\n\\nWill try my best to be heads down focused on doing useful things for civilization.\"\n",
      "        },\n",
      "        {\n",
      "            \"author_id\": \"44196397\",\n",
      "            \"created_at\": \"2022-07-25T20:46:46.000Z\",\n",
      "            \"id\": \"1551670314769293313\",\n",
      "            \"text\": \"@PPathole @michaelsiconolf @KirstenGrind @EmilyGlazer Mostly just that the media is a click maximizing machine and a story involving me gets a lot of clicks\"\n",
      "        },\n",
      "        {\n",
      "            \"author_id\": \"44196397\",\n",
      "            \"created_at\": \"2022-07-25T20:40:56.000Z\",\n",
      "            \"id\": \"1551668848000114689\",\n",
      "            \"text\": \"All Teslas come with a free karaoke app https://t.co/mZa3WmhyPL\"\n",
      "        },\n",
      "        {\n",
      "            \"author_id\": \"44196397\",\n",
      "            \"created_at\": \"2022-07-25T18:59:51.000Z\",\n",
      "            \"id\": \"1551643409907159041\",\n",
      "            \"text\": \"Das Baby would be a hit!\"\n",
      "        }\n",
      "    ],\n",
      "    \"meta\": {\n",
      "        \"newest_id\": \"1551963390129709056\",\n",
      "        \"next_token\": \"b26v89c19zqg8o3fpz5kjku2hbdsugqe36o9hwrdsc1a5\",\n",
      "        \"oldest_id\": \"1551643409907159041\",\n",
      "        \"result_count\": 10\n",
      "    }\n",
      "}\n"
     ]
    }
   ],
   "source": [
    "print(json.dumps(json_response, indent=4, sort_keys=True))"
   ]
  },
  {
   "cell_type": "code",
   "execution_count": 143,
   "metadata": {},
   "outputs": [],
   "source": [
    "#df = pd.DataFrame(response['json_response'])\n",
    "df = pd.DataFrame(json_response['data'])\n",
    "df.to_csv('data4.csv')"
   ]
  }
 ],
 "metadata": {
  "kernelspec": {
   "display_name": "Python 3.10.5 64-bit (windows store)",
   "language": "python",
   "name": "python3"
  },
  "language_info": {
   "codemirror_mode": {
    "name": "ipython",
    "version": 3
   },
   "file_extension": ".py",
   "mimetype": "text/x-python",
   "name": "python",
   "nbconvert_exporter": "python",
   "pygments_lexer": "ipython3",
   "version": "3.10.6"
  },
  "orig_nbformat": 4,
  "vscode": {
   "interpreter": {
    "hash": "b04001ca54e5ffc9c42d9fa47127f5c745705fc157c2151e145f1f4ee061d594"
   }
  }
 },
 "nbformat": 4,
 "nbformat_minor": 2
}
