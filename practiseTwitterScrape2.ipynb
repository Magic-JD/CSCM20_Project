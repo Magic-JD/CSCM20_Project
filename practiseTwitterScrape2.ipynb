{
 "cells": [
  {
   "cell_type": "code",
   "execution_count": 168,
   "metadata": {},
   "outputs": [],
   "source": [
    "#Source: https://towardsdatascience.com/an-extensive-guide-to-collecting-tweets-from-twitter-api-v2-for-academic-research-using-python-3-518fcb71df2a\n",
    "\n",
    "# For sending GET requests from the API\n",
    "#import requests\n",
    "import pip._vendor.requests \n",
    "# For saving access tokens and for file management when creating and adding to the dataset\n",
    "import os\n",
    "# For dealing with json responses we receive from the API\n",
    "import json\n",
    "# For displaying the data after\n",
    "import pandas as pd\n",
    "# For saving the response data in CSV format\n",
    "import csv\n",
    "# For parsing the dates received from twitter in readable formats\n",
    "import datetime\n",
    "import dateutil.parser\n",
    "import unicodedata\n",
    "#To add wait time between requests\n",
    "import time\n",
    "from dotenv import load_dotenv"
   ]
  },
  {
   "cell_type": "code",
   "execution_count": 169,
   "metadata": {},
   "outputs": [],
   "source": [
    "load_dotenv()\n",
    "\n",
    "def auth():\n",
    "    return os.environ.get(\"bearer-token\")\n",
    "\n",
    "def create_headers(bearer_token):\n",
    "    headers = {\"Authorization\": \"Bearer {}\".format(bearer_token)}\n",
    "    return headers"
   ]
  },
  {
   "cell_type": "code",
   "execution_count": 170,
   "metadata": {},
   "outputs": [],
   "source": [
    "\n",
    "def create_url(userid, max_results):\n",
    "    \n",
    "    #search_url = \"https://api.twitter.com/2/users/:id/tweets\" #Change to the endpoint you want to collect data from\n",
    "    search_url = \"https://api.twitter.com/2/users/{}/tweets\".format(userid)\n",
    "    \n",
    "\n",
    "    #change params based on the endpoint you are using\n",
    "    query_params = {'id': userid,\n",
    "                    'max_results': max_results,\n",
    "                    'expansions': 'author_id,in_reply_to_user_id,geo.place_id',                \n",
    "                    'tweet.fields': 'text,author_id,in_reply_to_user_id,geo,created_at,public_metrics,referenced_tweets',\n",
    "                    #'user.fields': 'name,username',\n",
    "                    #'place.fields': 'country',\n",
    "                    'next_token': {}}\n",
    "    return (search_url, query_params)"
   ]
  },
  {
   "cell_type": "code",
   "execution_count": 171,
   "metadata": {},
   "outputs": [],
   "source": [
    "def connect_to_endpoint(url, headers, params, next_token = None):\n",
    "    params['next_token'] = next_token   #params object received from create_url function\n",
    "    response = pip._vendor.requests.request(\"GET\", url, headers = headers, params = params)\n",
    "    print(\"Endpoint Response Code: \" + str(response.status_code))\n",
    "    if response.status_code != 200:\n",
    "        raise Exception(response.status_code, response.text)\n",
    "    return response.json()"
   ]
  },
  {
   "cell_type": "code",
   "execution_count": 172,
   "metadata": {},
   "outputs": [],
   "source": [
    "#Inputs for the request\n",
    "bearer_token = auth()\n",
    "headers = create_headers(bearer_token)\n",
    "user_id = \"1113874649824354304\"\n",
    "max_results = 15"
   ]
  },
  {
   "cell_type": "code",
   "execution_count": 173,
   "metadata": {},
   "outputs": [
    {
     "name": "stdout",
     "output_type": "stream",
     "text": [
      "Endpoint Response Code: 400\n"
     ]
    },
    {
     "ename": "Exception",
     "evalue": "(400, '{\"errors\":[{\"parameters\":{\"id\":[\"1113874649824354304\",\"1113874649824354304\"]},\"message\":\"Duplicate parameters are not allowed: the `id` query parameter\"}],\"title\":\"Invalid Request\",\"detail\":\"One or more parameters to your request was invalid.\",\"type\":\"https://api.twitter.com/2/problems/invalid-request\"}')",
     "output_type": "error",
     "traceback": [
      "\u001b[1;31m---------------------------------------------------------------------------\u001b[0m",
      "\u001b[1;31mException\u001b[0m                                 Traceback (most recent call last)",
      "\u001b[1;32mc:\\Users\\olija\\Documents\\GitHub\\CSCM20_Project\\practiseTwitterScrape2.ipynb Cell 6\u001b[0m in \u001b[0;36m<cell line: 2>\u001b[1;34m()\u001b[0m\n\u001b[0;32m      <a href='vscode-notebook-cell:/c%3A/Users/olija/Documents/GitHub/CSCM20_Project/practiseTwitterScrape2.ipynb#ch0000005?line=0'>1</a>\u001b[0m url \u001b[39m=\u001b[39m create_url(user_id, max_results)\n\u001b[1;32m----> <a href='vscode-notebook-cell:/c%3A/Users/olija/Documents/GitHub/CSCM20_Project/practiseTwitterScrape2.ipynb#ch0000005?line=1'>2</a>\u001b[0m json_response \u001b[39m=\u001b[39m connect_to_endpoint(url[\u001b[39m0\u001b[39;49m], headers, url[\u001b[39m1\u001b[39;49m])\n",
      "\u001b[1;32mc:\\Users\\olija\\Documents\\GitHub\\CSCM20_Project\\practiseTwitterScrape2.ipynb Cell 6\u001b[0m in \u001b[0;36mconnect_to_endpoint\u001b[1;34m(url, headers, params, next_token)\u001b[0m\n\u001b[0;32m      <a href='vscode-notebook-cell:/c%3A/Users/olija/Documents/GitHub/CSCM20_Project/practiseTwitterScrape2.ipynb#ch0000005?line=3'>4</a>\u001b[0m \u001b[39mprint\u001b[39m(\u001b[39m\"\u001b[39m\u001b[39mEndpoint Response Code: \u001b[39m\u001b[39m\"\u001b[39m \u001b[39m+\u001b[39m \u001b[39mstr\u001b[39m(response\u001b[39m.\u001b[39mstatus_code))\n\u001b[0;32m      <a href='vscode-notebook-cell:/c%3A/Users/olija/Documents/GitHub/CSCM20_Project/practiseTwitterScrape2.ipynb#ch0000005?line=4'>5</a>\u001b[0m \u001b[39mif\u001b[39;00m response\u001b[39m.\u001b[39mstatus_code \u001b[39m!=\u001b[39m \u001b[39m200\u001b[39m:\n\u001b[1;32m----> <a href='vscode-notebook-cell:/c%3A/Users/olija/Documents/GitHub/CSCM20_Project/practiseTwitterScrape2.ipynb#ch0000005?line=5'>6</a>\u001b[0m     \u001b[39mraise\u001b[39;00m \u001b[39mException\u001b[39;00m(response\u001b[39m.\u001b[39mstatus_code, response\u001b[39m.\u001b[39mtext)\n\u001b[0;32m      <a href='vscode-notebook-cell:/c%3A/Users/olija/Documents/GitHub/CSCM20_Project/practiseTwitterScrape2.ipynb#ch0000005?line=6'>7</a>\u001b[0m \u001b[39mreturn\u001b[39;00m response\u001b[39m.\u001b[39mjson()\n",
      "\u001b[1;31mException\u001b[0m: (400, '{\"errors\":[{\"parameters\":{\"id\":[\"1113874649824354304\",\"1113874649824354304\"]},\"message\":\"Duplicate parameters are not allowed: the `id` query parameter\"}],\"title\":\"Invalid Request\",\"detail\":\"One or more parameters to your request was invalid.\",\"type\":\"https://api.twitter.com/2/problems/invalid-request\"}')"
     ]
    }
   ],
   "source": [
    "url = create_url(user_id, max_results)\n",
    "json_response = connect_to_endpoint(url[0], headers, url[1])"
   ]
  },
  {
   "cell_type": "code",
   "execution_count": null,
   "metadata": {},
   "outputs": [],
   "source": [
    "df = pd.DataFrame(json_response['data'])\n",
    "df.to_csv('hansTweetData.csv')"
   ]
  }
 ],
 "metadata": {
  "kernelspec": {
   "display_name": "Python 3.10.5 64-bit (windows store)",
   "language": "python",
   "name": "python3"
  },
  "language_info": {
   "codemirror_mode": {
    "name": "ipython",
    "version": 3
   },
   "file_extension": ".py",
   "mimetype": "text/x-python",
   "name": "python",
   "nbconvert_exporter": "python",
   "pygments_lexer": "ipython3",
   "version": "3.10.6"
  },
  "orig_nbformat": 4,
  "vscode": {
   "interpreter": {
    "hash": "b04001ca54e5ffc9c42d9fa47127f5c745705fc157c2151e145f1f4ee061d594"
   }
  }
 },
 "nbformat": 4,
 "nbformat_minor": 2
}
