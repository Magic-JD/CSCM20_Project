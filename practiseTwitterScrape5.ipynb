{
 "cells": [
  {
   "cell_type": "code",
   "execution_count": 59,
   "metadata": {},
   "outputs": [],
   "source": [
    "\n",
    "import pip._vendor.requests \n",
    "import os\n",
    "import json\n",
    "import pandas as pd\n",
    "import csv\n",
    "import datetime\n",
    "import dateutil.parser\n",
    "import unicodedata\n",
    "#To add wait time between requests\n",
    "import time\n",
    "from dotenv import load_dotenv"
   ]
  },
  {
   "cell_type": "code",
   "execution_count": 60,
   "metadata": {},
   "outputs": [],
   "source": [
    "load_dotenv()\n",
    "\n",
    "# To get bearer token environment variable\n",
    "bearer_token = os.environ.get(\"BEARER-TOKEN\")\n",
    "\n",
    "search_url = \"https://api.twitter.com/2/tweets/search/all\" "
   ]
  },
  {
   "cell_type": "code",
   "execution_count": 61,
   "metadata": {},
   "outputs": [],
   "source": [
    "def bearer_oauth(r):\n",
    "    \"\"\"\n",
    "    Method required by bearer token authentication.\n",
    "    \"\"\"\n",
    "\n",
    "    r.headers[\"Authorization\"] = f\"Bearer {bearer_token}\"\n",
    "    return r"
   ]
  },
  {
   "cell_type": "code",
   "execution_count": 62,
   "metadata": {},
   "outputs": [],
   "source": [
    "def query_params(query, startTime, endTime, maxResults, nextToken):\n",
    "\n",
    "    return {'query': query,\n",
    "    'start_time': startTime, \n",
    "    'end_time': endTime, \n",
    "    'max_results': maxResults,\n",
    "    'expansions': 'geo.place_id',\n",
    "    'tweet.fields': 'text,created_at,id',\n",
    "    'user.fields': 'name,username',\n",
    "    'place.fields': 'country,country_code,geo',\n",
    "    'next_token': nextToken}\n"
   ]
  },
  {
   "cell_type": "code",
   "execution_count": 63,
   "metadata": {},
   "outputs": [],
   "source": [
    "query = '(asian OR asian indian OR asians OR asiatic OR azn OR brunei OR bruneian OR burma OR burmese OR cambodia OR cambodian OR china OR chinaman OR chinese OR ching chong OR chink OR chinkerbell OR chinks OR cracker jap OR dog eater OR east asian OR east timor OR far eastern OR filipino OR filipinos OR gook OR hong kong OR indonesia OR indonesian OR japan OR japanese OR korean OR koreans OR lao OR laos OR laotian OR macao OR macau OR malaysia OR malaysian OR mongolia OR mongolian OR mongolians OR myanmar OR north korea OR north korean OR oriental OR orientals OR philippines OR singapore OR singaporean OR slant eyed OR south korea OR south korean OR southeast asian OR soyback OR squint nigger OR taiwan OR taiwanese OR thai OR thailand OR tibet OR tibetan OR timorese OR vietnam OR vietnamese) lang:en -is:retweet place_country:gb'\n",
    "startTime = '2019-01-01T00:00:00Z'\n",
    "endTime = '2022-06-01T00:00:00Z'\n",
    "maxResults = 10\n"
   ]
  },
  {
   "cell_type": "code",
   "execution_count": 64,
   "metadata": {},
   "outputs": [],
   "source": [
    "def connect_to_endpoint(url, params):\n",
    "    response = pip._vendor.requests.request(\"GET\", search_url, auth=bearer_oauth, params=params)\n",
    "    if response.status_code != 200:\n",
    "        raise Exception(response.status_code, response.text)\n",
    "    return response.json()"
   ]
  },
  {
   "cell_type": "markdown",
   "metadata": {},
   "source": [
    "This suffers the same problem experienced with gettweetcountstodf() in tweetcountsasiankeywords.ipynb\n",
    "use same tactics used there to fix this"
   ]
  },
  {
   "cell_type": "code",
   "execution_count": 65,
   "metadata": {},
   "outputs": [
    {
     "name": "stdout",
     "output_type": "stream",
     "text": [
      "data\n",
      "includes\n",
      "meta\n"
     ]
    },
    {
     "ename": "Exception",
     "evalue": "(429, '{\"title\":\"Too Many Requests\",\"detail\":\"Too Many Requests\",\"type\":\"about:blank\",\"status\":429}')",
     "output_type": "error",
     "traceback": [
      "\u001b[1;31m---------------------------------------------------------------------------\u001b[0m",
      "\u001b[1;31mException\u001b[0m                                 Traceback (most recent call last)",
      "\u001b[1;32mc:\\Users\\olija\\Documents\\GitHub\\CSCM20_Project\\practiseTwitterScrape5.ipynb Cell 7\u001b[0m in \u001b[0;36m<cell line: 17>\u001b[1;34m()\u001b[0m\n\u001b[0;32m     <a href='vscode-notebook-cell:/c%3A/Users/olija/Documents/GitHub/CSCM20_Project/practiseTwitterScrape5.ipynb#X15sZmlsZQ%3D%3D?line=13'>14</a>\u001b[0m             finished \u001b[39m=\u001b[39m \u001b[39mTrue\u001b[39;00m\n\u001b[0;32m     <a href='vscode-notebook-cell:/c%3A/Users/olija/Documents/GitHub/CSCM20_Project/practiseTwitterScrape5.ipynb#X15sZmlsZQ%3D%3D?line=14'>15</a>\u001b[0m     \u001b[39mreturn\u001b[39;00m pd\u001b[39m.\u001b[39mDataFrame(data)\n\u001b[1;32m---> <a href='vscode-notebook-cell:/c%3A/Users/olija/Documents/GitHub/CSCM20_Project/practiseTwitterScrape5.ipynb#X15sZmlsZQ%3D%3D?line=16'>17</a>\u001b[0m tweetsDf \u001b[39m=\u001b[39m getTweetsDf()\n\u001b[0;32m     <a href='vscode-notebook-cell:/c%3A/Users/olija/Documents/GitHub/CSCM20_Project/practiseTwitterScrape5.ipynb#X15sZmlsZQ%3D%3D?line=17'>18</a>\u001b[0m \u001b[39mprint\u001b[39m(tweetsDf)\n",
      "\u001b[1;32mc:\\Users\\olija\\Documents\\GitHub\\CSCM20_Project\\practiseTwitterScrape5.ipynb Cell 7\u001b[0m in \u001b[0;36mgetTweetsDf\u001b[1;34m()\u001b[0m\n\u001b[0;32m      <a href='vscode-notebook-cell:/c%3A/Users/olija/Documents/GitHub/CSCM20_Project/practiseTwitterScrape5.ipynb#X15sZmlsZQ%3D%3D?line=3'>4</a>\u001b[0m data \u001b[39m=\u001b[39m []\n\u001b[0;32m      <a href='vscode-notebook-cell:/c%3A/Users/olija/Documents/GitHub/CSCM20_Project/practiseTwitterScrape5.ipynb#X15sZmlsZQ%3D%3D?line=4'>5</a>\u001b[0m \u001b[39mwhile\u001b[39;00m finished \u001b[39m==\u001b[39m \u001b[39mFalse\u001b[39;00m:\n\u001b[1;32m----> <a href='vscode-notebook-cell:/c%3A/Users/olija/Documents/GitHub/CSCM20_Project/practiseTwitterScrape5.ipynb#X15sZmlsZQ%3D%3D?line=5'>6</a>\u001b[0m     json_response \u001b[39m=\u001b[39m connect_to_endpoint(search_url, query_params(query, startTime, endTime, maxResults, next_token))\n\u001b[0;32m      <a href='vscode-notebook-cell:/c%3A/Users/olija/Documents/GitHub/CSCM20_Project/practiseTwitterScrape5.ipynb#X15sZmlsZQ%3D%3D?line=6'>7</a>\u001b[0m     \u001b[39mfor\u001b[39;00m row \u001b[39min\u001b[39;00m json_response:\n\u001b[0;32m      <a href='vscode-notebook-cell:/c%3A/Users/olija/Documents/GitHub/CSCM20_Project/practiseTwitterScrape5.ipynb#X15sZmlsZQ%3D%3D?line=7'>8</a>\u001b[0m         \u001b[39mprint\u001b[39m(row)\n",
      "\u001b[1;32mc:\\Users\\olija\\Documents\\GitHub\\CSCM20_Project\\practiseTwitterScrape5.ipynb Cell 7\u001b[0m in \u001b[0;36mconnect_to_endpoint\u001b[1;34m(url, params)\u001b[0m\n\u001b[0;32m      <a href='vscode-notebook-cell:/c%3A/Users/olija/Documents/GitHub/CSCM20_Project/practiseTwitterScrape5.ipynb#X15sZmlsZQ%3D%3D?line=1'>2</a>\u001b[0m response \u001b[39m=\u001b[39m pip\u001b[39m.\u001b[39m_vendor\u001b[39m.\u001b[39mrequests\u001b[39m.\u001b[39mrequest(\u001b[39m\"\u001b[39m\u001b[39mGET\u001b[39m\u001b[39m\"\u001b[39m, search_url, auth\u001b[39m=\u001b[39mbearer_oauth, params\u001b[39m=\u001b[39mparams)\n\u001b[0;32m      <a href='vscode-notebook-cell:/c%3A/Users/olija/Documents/GitHub/CSCM20_Project/practiseTwitterScrape5.ipynb#X15sZmlsZQ%3D%3D?line=2'>3</a>\u001b[0m \u001b[39mif\u001b[39;00m response\u001b[39m.\u001b[39mstatus_code \u001b[39m!=\u001b[39m \u001b[39m200\u001b[39m:\n\u001b[1;32m----> <a href='vscode-notebook-cell:/c%3A/Users/olija/Documents/GitHub/CSCM20_Project/practiseTwitterScrape5.ipynb#X15sZmlsZQ%3D%3D?line=3'>4</a>\u001b[0m     \u001b[39mraise\u001b[39;00m \u001b[39mException\u001b[39;00m(response\u001b[39m.\u001b[39mstatus_code, response\u001b[39m.\u001b[39mtext)\n\u001b[0;32m      <a href='vscode-notebook-cell:/c%3A/Users/olija/Documents/GitHub/CSCM20_Project/practiseTwitterScrape5.ipynb#X15sZmlsZQ%3D%3D?line=4'>5</a>\u001b[0m \u001b[39mreturn\u001b[39;00m response\u001b[39m.\u001b[39mjson()\n",
      "\u001b[1;31mException\u001b[0m: (429, '{\"title\":\"Too Many Requests\",\"detail\":\"Too Many Requests\",\"type\":\"about:blank\",\"status\":429}')"
     ]
    }
   ],
   "source": [
    "def getTweetsDf():\n",
    "    next_token = {}\n",
    "    finished = False\n",
    "    data = []\n",
    "    while finished == False:\n",
    "        json_response = connect_to_endpoint(search_url, query_params(query, startTime, endTime, maxResults, next_token))\n",
    "        for row in json_response:\n",
    "            print(row)\n",
    "            data.append(row)\n",
    "        if 'next_token' in json_response['meta']:\n",
    "            # Save the token to use for next call\n",
    "            next_token = json_response['meta']['next_token']\n",
    "        else:\n",
    "            finished = True\n",
    "    return pd.DataFrame(data)\n",
    "\n",
    "tweetsDf = getTweetsDf()\n",
    "print(tweetsDf)"
   ]
  },
  {
   "cell_type": "code",
   "execution_count": null,
   "metadata": {},
   "outputs": [
    {
     "ename": "NameError",
     "evalue": "name 'tweetsDf' is not defined",
     "output_type": "error",
     "traceback": [
      "\u001b[1;31m---------------------------------------------------------------------------\u001b[0m",
      "\u001b[1;31mNameError\u001b[0m                                 Traceback (most recent call last)",
      "\u001b[1;32mc:\\Users\\olija\\Documents\\GitHub\\CSCM20_Project\\practiseTwitterScrape5.ipynb Cell 8\u001b[0m in \u001b[0;36m<cell line: 1>\u001b[1;34m()\u001b[0m\n\u001b[1;32m----> <a href='vscode-notebook-cell:/c%3A/Users/olija/Documents/GitHub/CSCM20_Project/practiseTwitterScrape5.ipynb#X16sZmlsZQ%3D%3D?line=0'>1</a>\u001b[0m \u001b[39mprint\u001b[39m(tweetsDf)\n",
      "\u001b[1;31mNameError\u001b[0m: name 'tweetsDf' is not defined"
     ]
    }
   ],
   "source": [
    "print(tweetsDf)"
   ]
  }
 ],
 "metadata": {
  "kernelspec": {
   "display_name": "Python 3.10.6 64-bit (windows store)",
   "language": "python",
   "name": "python3"
  },
  "language_info": {
   "codemirror_mode": {
    "name": "ipython",
    "version": 3
   },
   "file_extension": ".py",
   "mimetype": "text/x-python",
   "name": "python",
   "nbconvert_exporter": "python",
   "pygments_lexer": "ipython3",
   "version": "3.10.6"
  },
  "orig_nbformat": 4,
  "vscode": {
   "interpreter": {
    "hash": "b04001ca54e5ffc9c42d9fa47127f5c745705fc157c2151e145f1f4ee061d594"
   }
  }
 },
 "nbformat": 4,
 "nbformat_minor": 2
}
