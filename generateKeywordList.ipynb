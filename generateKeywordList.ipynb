{
 "cells": [
  {
   "cell_type": "markdown",
   "metadata": {},
   "source": [
    "Keywords are taken from a list of Asian related racial slurs\n",
    "list of countries from East Asia and Southeast asia and the nationalities of those countries "
   ]
  },
  {
   "cell_type": "code",
   "execution_count": 7,
   "metadata": {},
   "outputs": [],
   "source": [
    "import pandas\n",
    "from pandas import *"
   ]
  },
  {
   "cell_type": "code",
   "execution_count": 8,
   "metadata": {},
   "outputs": [],
   "source": [
    "keyWordData = read_csv('rawkeywordlist.csv')\n",
    "words = keyWordData['keyword'].tolist()\n",
    "\n",
    "seen = []\n",
    "\n",
    "#if hyphens not desired use this:\n",
    "\n",
    "for word in words:\n",
    "    newWord = word.rstrip()\n",
    "    newWord = newWord.lower()\n",
    "    if newWord in seen:\n",
    "        continue      \n",
    "    if \"-\" in newWord:\n",
    "        unHyphenated = newWord.replace(\"-\", \" \")\n",
    "        if unHyphenated not in seen:\n",
    "            seen.append(unHyphenated)\n",
    "            continue \n",
    "        else:\n",
    "            continue \n",
    "    seen.append(newWord)\n",
    "\n",
    "\n",
    "sortedSeen = sorted(seen)\n",
    "\n",
    "df = pandas.DataFrame(data={\"keyword\" : sortedSeen})\n",
    "df.to_csv(\"./unsortedAsianKeywords.csv\", sep=\",\", index=False)\n"
   ]
  }
 ],
 "metadata": {
  "kernelspec": {
   "display_name": "Python 3.10.6 ('env': venv)",
   "language": "python",
   "name": "python3"
  },
  "language_info": {
   "codemirror_mode": {
    "name": "ipython",
    "version": 3
   },
   "file_extension": ".py",
   "mimetype": "text/x-python",
   "name": "python",
   "nbconvert_exporter": "python",
   "pygments_lexer": "ipython3",
   "version": "3.10.6"
  },
  "orig_nbformat": 4,
  "vscode": {
   "interpreter": {
    "hash": "5efe994fc0563bcaaa584d43167e2f726f21a1529d01649316e60c7c543137fd"
   }
  }
 },
 "nbformat": 4,
 "nbformat_minor": 2
}
